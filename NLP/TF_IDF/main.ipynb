{
 "cells": [
  {
   "cell_type": "markdown",
   "id": "bf8c3060",
   "metadata": {},
   "source": [
    "# TF-IDF"
   ]
  },
  {
   "cell_type": "code",
   "execution_count": 1,
   "id": "3d134a35",
   "metadata": {},
   "outputs": [
    {
     "name": "stdout",
     "output_type": "stream",
     "text": [
      "Vocabualry:  ['data' 'enjoy' 'for' 'great' 'in' 'is' 'love' 'programming' 'python'\n",
      " 'science' 'with' 'working']\n",
      "TF-IDF Matrix:\n",
      " [[0.         0.         0.         0.         0.54645401 0.\n",
      "  0.54645401 0.54645401 0.32274454 0.         0.         0.        ]\n",
      " [0.43238509 0.         0.43238509 0.43238509 0.         0.43238509\n",
      "  0.         0.         0.2553736  0.43238509 0.         0.        ]\n",
      " [0.         0.54645401 0.         0.         0.         0.\n",
      "  0.         0.         0.32274454 0.         0.54645401 0.54645401]]\n"
     ]
    }
   ],
   "source": [
    "from sklearn.feature_extraction.text import TfidfVectorizer\n",
    "\n",
    "document = [\n",
    "    \"I love programming in Python\",\n",
    "    \"Python is great for data science\",\n",
    "    \"I enjoy working with Python\"\n",
    "]\n",
    "\n",
    "vectorizer = TfidfVectorizer()\n",
    "\n",
    "x = vectorizer.fit_transform(document)\n",
    "\n",
    "print('Vocabualry: ', vectorizer.get_feature_names_out())\n",
    "print('TF-IDF Matrix:\\n', x.toarray())"
   ]
  },
  {
   "cell_type": "code",
   "execution_count": null,
   "id": "96a2370e",
   "metadata": {},
   "outputs": [],
   "source": []
  }
 ],
 "metadata": {
  "kernelspec": {
   "display_name": "Python 3",
   "language": "python",
   "name": "python3"
  },
  "language_info": {
   "codemirror_mode": {
    "name": "ipython",
    "version": 3
   },
   "file_extension": ".py",
   "mimetype": "text/x-python",
   "name": "python",
   "nbconvert_exporter": "python",
   "pygments_lexer": "ipython3",
   "version": "3.11.9"
  }
 },
 "nbformat": 4,
 "nbformat_minor": 5
}

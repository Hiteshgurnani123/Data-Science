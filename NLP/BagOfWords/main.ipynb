{
 "cells": [
  {
   "cell_type": "markdown",
   "id": "26840a81",
   "metadata": {},
   "source": [
    "# Bag Of Words"
   ]
  },
  {
   "cell_type": "code",
   "execution_count": 1,
   "id": "125bbfa7",
   "metadata": {},
   "outputs": [],
   "source": [
    "from sklearn.feature_extraction.text import CountVectorizer"
   ]
  },
  {
   "cell_type": "code",
   "execution_count": 2,
   "id": "85b0bcac",
   "metadata": {},
   "outputs": [],
   "source": [
    "document = [\n",
    "    \"I love programming in Python\",\n",
    "    \"Python is great for data science\",\n",
    "    \"I am learning Python\"\n",
    "]"
   ]
  },
  {
   "cell_type": "code",
   "execution_count": 6,
   "id": "ccc0795a",
   "metadata": {},
   "outputs": [
    {
     "name": "stdout",
     "output_type": "stream",
     "text": [
      "Vocabulary:  ['am learning' 'am learning python' 'data science' 'for data'\n",
      " 'for data science' 'great for' 'great for data' 'in python' 'is great'\n",
      " 'is great for' 'learning python' 'love programming' 'love programming in'\n",
      " 'programming in' 'programming in python' 'python is' 'python is great']\n",
      "Bag Of Words Matrix:\n",
      " [[0 0 0 0 0 0 0 1 0 0 0 1 1 1 1 0 0]\n",
      " [0 0 1 1 1 1 1 0 1 1 0 0 0 0 0 1 1]\n",
      " [1 1 0 0 0 0 0 0 0 0 1 0 0 0 0 0 0]]\n"
     ]
    }
   ],
   "source": [
    "vectorizer = CountVectorizer(ngram_range=(2,3))\n",
    "\n",
    "x = vectorizer.fit_transform(document)\n",
    "\n",
    "print('Vocabulary: ', vectorizer.get_feature_names_out())\n",
    "print('Bag Of Words Matrix:\\n', x.toarray())"
   ]
  },
  {
   "cell_type": "code",
   "execution_count": null,
   "id": "126933fc",
   "metadata": {},
   "outputs": [],
   "source": []
  }
 ],
 "metadata": {
  "kernelspec": {
   "display_name": "Python 3",
   "language": "python",
   "name": "python3"
  },
  "language_info": {
   "codemirror_mode": {
    "name": "ipython",
    "version": 3
   },
   "file_extension": ".py",
   "mimetype": "text/x-python",
   "name": "python",
   "nbconvert_exporter": "python",
   "pygments_lexer": "ipython3",
   "version": "3.11.9"
  }
 },
 "nbformat": 4,
 "nbformat_minor": 5
}
